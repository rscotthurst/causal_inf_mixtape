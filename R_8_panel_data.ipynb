{
 "cells": [
  {
   "cell_type": "markdown",
   "id": "b4165a0f-7c55-436d-8445-dd809f08de27",
   "metadata": {},
   "source": [
    "# Chapter 8: Panel Data\n",
    "\n",
    "https://mixtape.scunning.com/08-panel_data"
   ]
  },
  {
   "cell_type": "markdown",
   "id": "2313eade-62ba-455e-97e2-0f97dbddc583",
   "metadata": {},
   "source": [
    "## Intro"
   ]
  },
  {
   "cell_type": "markdown",
   "id": "0409ecdb-dcfe-443e-b556-741d6ebcbe77",
   "metadata": {},
   "source": [
    "Panel data estimators (models) are among the most important tools in the causal inference toolkit. The estimators are designed explicitly for longitudinal data—the repeated observing of a unit over time. Under certain situations, repeatedly observing the same unit over time can overcome a particular kind of omitted variable bias, though not all kinds. While it is possible that observing the same unit over time will not resolve the bias, there are still many applications where it can, and that’s why this method is so important"
   ]
  },
  {
   "cell_type": "markdown",
   "id": "c409a287-dab5-4281-93a5-3a7cbe78c468",
   "metadata": {},
   "source": [
    "## DAG Example"
   ]
  },
  {
   "cell_type": "markdown",
   "id": "6a978379-11eb-419c-ab2f-f307a80327ee",
   "metadata": {},
   "source": [
    "Before I dig into the technical assumptions and estimation methodology for panel data techniques, I want to review a simple DAG illustrating those assumptions. This DAG comes from [Imai and Kim (2017)](https://mixtape.scunning.com/references#ref-Imai2017). \n",
    "\n",
    "Let’s say that we have data on a column of outcomes $Y_i$, which appear in three time periods (here notated as $Y_{i1}$, $Y_{i2}$ and $Y_{i3}$). In our notation $t = 1,2,3$ indexes the time period where each $i$ unit is observed. Likewise, we have a matrix of covariates $D_i$. These also vary over time (noted as $D_{i1}$, $D_{i2}$ and $D_{i3}$). \n",
    "\n",
    "Also, there exists a single unit-specific unobserved variable $u_i$, which varies across units, but which does not vary over time for that unit. Hence the reason that there is no $t = 1,2,3$ subscript for our $u_i$ variable. Key to this variable is (a) it is unobserved in the data set, (b) it is unit-specific, and (c) it does not change over time for a given unit . \n",
    "\n",
    "Finally there exists some unit-specific time-invariant variable, $X_i$ . Notice that it doesn’t change over time, just like $u_i$, but unlike $u_i$ it **is** observed."
   ]
  },
  {
   "cell_type": "markdown",
   "id": "5a7428f8-2081-4b70-986c-58aafb0d9c95",
   "metadata": {},
   "source": [
    "<img src=\"img/panel_dag.png\" alt=\"DAG\" style=\"width: 350px;\"/>"
   ]
  },
  {
   "cell_type": "markdown",
   "id": "1fcea05a-0416-48f3-b84c-633008d42ec7",
   "metadata": {},
   "source": [
    "- First, let us note that $D_{i1}$ causes both $Y_{i1}$ as well as the next period’s treatment value, $D_{i2}$. \n",
    "\n",
    "- Second, note that an unobserved confounder, $u_i$, determines all $Y$ and all $D$ variables. Consequently, $D$ is **endogenous** since $u_i$ is unobserved and absorbed into the structural error term of the regression model. \n",
    "\n",
    "- Thirdly, there is no time-varying unobserved confounder correlated with $D_{it}$—the only confounder is $u_i$, which we call the **unobserved heterogeneity**. \n",
    "\n",
    "- Fourth, past outcomes do not directly affect current outcomes (i.e., no direct edge between the $Y_{it}$ variables). \n",
    "\n",
    "- Fifth, past outcomes do not directly affect current treatments (i.e., no direct edge from $Y_{i,t-1}$ to $D_{it}$). \n",
    "\n",
    "- And finally, past treatments, $D_{i,t-1}$ do not directly affect current outcomes, $Y_{it}$ (i.e., no direct edge from  $Y_{i,t-1}$ and $D_{it}$).\n",
    "\n",
    "It is under these assumptions that we can use a particular panel method called fixed effects to isolate the causal effect of $D$ on $Y$."
   ]
  },
  {
   "cell_type": "markdown",
   "id": "45159727-0a90-4c74-8b5e-a022dc88c79e",
   "metadata": {},
   "source": [
    "What might an example of this be? Let’s return to our story about the returns to education. Let’s say that we are interested in the effect of schooling on earnings, and schooling is partly determined by unchanging genetic factors which themselves determine unobserved ability, like intelligence, contentiousness, and motivation (Conley and Fletcher 2017). If we observe the same people’s time-varying earnings and schoolings over time, then if the situation described by the above DAG describes both the directed edges and the missing edges, then we can use panel fixed effects models to identify the causal effect of schooling on earnings."
   ]
  },
  {
   "cell_type": "markdown",
   "id": "9d15fd6e-c5f2-415d-8514-90b0e5162375",
   "metadata": {},
   "source": [
    "## Estimation\n",
    "When we use the term “panel data,” what do we mean? We mean a data set where we observe the same units (e.g., individuals, firms, countries, schools) over more than one time period. Often our outcome variable depends on several factors, some of which are observed and some of which are unobserved in our data, and insofar as the unobserved variables are correlated with the treatment variable, then the treatment variable is endogenous and correlations are not estimates of a causal effect. This chapter focuses on the conditions under which a correlation between  and  reflects a causal effect even with unobserved variables that are correlated with the treatment variable. Specifically, if these omitted variables are constant over time, then even if they are heterogeneous across units, we can use panel data estimators to consistently estimate the effect of our treatment variable on outcomes.\n",
    "\n",
    "There are several different kinds of estimators for panel data, but we will in this chapter only cover two: pooled ordinary least squares (POLS) and fixed effects (FE)."
   ]
  },
  {
   "cell_type": "markdown",
   "id": "52e344a3-a44c-4766-b521-6a26bacffa47",
   "metadata": {},
   "source": [
    "## Pooled OLS\n",
    "\n",
    "The first estimator we will discuss is the pooled ordinary least squares, or POLS estimator. When we ignore the panel structure and regress $Y_{it}$ on $D_{it}$ we get:\n",
    "\n",
    "$$\n",
    "Y_{it} = \\delta D_{it} + \\eta_{it}; t = 1,2,...,T\n",
    "$$\n",
    "\n",
    "with composite error:\n",
    "\n",
    "$$\n",
    "\\eta_{it} = c_i + \\epsilon_{it}\n",
    "$$\n",
    "\n",
    "While our DAG did not include $\\epsilon_{it}$, this would be equivalent to assuming that the unobserved heterogeneity, $c_i$, was uncorrelated with $D_{it}$ for all time periods.\n",
    "\n",
    "**But this is not an appropriate assumption in our case because our DAG explicitly links the unobserved heterogeneity to both the outcome and the treatment in each period**. Or using our schooling-earnings example, schooling is likely based on unobserved background factors, $u_i$, and therefore without controlling for it, we have omitted variable bias and $\\hat{\\delta}$ is biased. No correlation between $D_{it}$ and $\\eta_{it}$ necessarily means no correlation between the unobserved $u_i$ and $D_{it}$ for all $t$ and that is just probably not a credible assumption. An additional problem is that $\\eta_{it}$ is serially correlated for unit $i$ since $u_i$ is present in each $t$ period. And thus heteroskedastic robust standard errors are also likely too small."
   ]
  },
  {
   "cell_type": "markdown",
   "id": "cc4d32ca-bd53-4bc8-b7e2-17cce04e8e60",
   "metadata": {},
   "source": [
    "## Fixed effects (within Estimator)\n",
    "\n",
    "Let’s rewrite our unobserved effects model so that this is still firmly in our minds:\n",
    "\n",
    "$$\n",
    "Y_{it} = \\delta D_{it} + u_i + \\epsilon_{it}; t = 1,2,...,T\n",
    "$$\n",
    "\n",
    "If we have data on multiple time periods, we can think of $u_i$ as fixed effects to be estimated. OLS estimation with fixed effects yields:\n",
    "\n",
    "$$\n",
    "\\big(\\widehat{\\delta}, \\widehat{u}_1, \\dots, \\widehat{u}_N\\big) = \\underset{b,m_1,\\dots,m_N}{\\arg\\min} \\sum_{i=1}^N\\sum_{t=1}^T (Y_{it}-D_{it}b- m_i)^2\n",
    "$$"
   ]
  },
  {
   "cell_type": "markdown",
   "id": "6b432a71-e290-4138-9f31-b918bfd70930",
   "metadata": {},
   "source": [
    "<p>In case it isn’t clear, though, running a regression with the time-demeaned variables <span class=\"math inline\">\\(\\ddot{Y}_{it}\\equiv Y_{it} - \\overline{Y}_i\\)</span> and <span class=\"math inline\">\\(\\ddot{D}_{it} \\equiv D_{it} - \\overline{D}\\)</span> is <em>numerically equivalent</em> to a regression of <span class=\"math inline\">\\(Y_{it}\\)</span> on <span class=\"math inline\">\\(D_{it}\\)</span> and unit-specific dummy variables. Hence the reason this is sometimes called the “within” estimator, and sometimes called the “fixed effects” estimator. And when year fixed effects are included, the “twoway fixed effects” estimator. They are the same thing.</p>\n",
    "\n",
    "Where’d the unobserved heterogeneity go?! It was deleted when we time-demeaned the data. And as we said, including individual fixed effects does this time demeaning automatically so that you don’t have to go to the actual trouble of doing it yourself manually"
   ]
  },
  {
   "cell_type": "markdown",
   "id": "a80a3ad0-1946-46b9-9892-4a047619642c",
   "metadata": {},
   "source": [
    "## Data Exercise: Survey of Adult Service Providers"
   ]
  },
  {
   "cell_type": "markdown",
   "id": "22d6baf6-43fc-4944-8220-e89c3f789e1a",
   "metadata": {},
   "source": [
    "Next I’d like to introduce a Stata exercise based on data collection for my own research: a survey of sex workers. You may or may not know this, but the Internet has had a profound effect on sex markets. It has moved sex work indoors while simultaneously breaking the traditional link between sex workers and pimps. It has increased safety and anonymity, too, which has had the effect of causing new entrants. The marginal sex worker has more education and better outside options than traditional US sex workers (Cunningham and Kendall 2011, 2014, 2016). The Internet, in sum, caused the marginal sex worker to shift towards women more sensitive to detection, harm, and arrest.\n",
    "\n",
    "In 2008 and 2009, I surveyed (with Todd Kendall) approximately 700 US Internet-mediated sex workers. The survey was a basic labor-market survey; I asked them about their illicit and legal labor-market experiences, and about demographics. The survey had two parts: a “static” provider-specific section and a “panel” section. The panel section asked respondents to share information about each of the previous four sessions with clients.\n",
    "\n",
    "I have created a shortened version of the data set and uploaded it to Github. It includes a few time-invariant provider characteristics, such as race, age, marital status, years of schooling, and body mass index, as well as several time-variant session-specific characteristics including the log of the hourly price, the log of the session length (in hours), characteristics of the client himself, whether a condom was used in any capacity during the session, whether the client was a “regular,” etc.\n",
    "\n",
    "In this exercise, you will estimate three types of models: a pooled OLS model, a fixed effects (FE), and a demeaned OLS model. The model will be of the following form:\n",
    "\n",
    "$$\n",
    "   Y_{is}  =\\beta_i X_i + \\gamma_{is} Z_{is} + u_i + \\varepsilon_{is}\n",
    "$$\n",
    "$$\n",
    "   \\ddot{Y}_{is} = \\gamma_{is} \\ddot{Z}_{is} + \\ddot \\eta_{is} \n",
    "$$\n",
    "where $u_i$ is both unobserved and correlated with $Z_{is}$.\n",
    "\n",
    "\n",
    "The first regression model will be estimated with pooled OLS and the second model will be estimated using both fixed effects and OLS. In other words, I’m going to have you estimate the model using canned routines in Stata and R with individual fixed effects, as well as demean the data manually and estimate the demeaned regression using OLS.\n",
    "\n",
    "First notice that the second regression has a different notation on the dependent and independent variable; it represents the fact that the variables are columns of demeaned variables. Thus $\\ddot{Y}_{is} = Y_{is} - \\overline{Y}_i$.\n",
    " \n",
    "Secondly, notice that the time-invariant $X_i$ variables are missing from the second equation. Do you understand why that is the case? These variables have also been demeaned, but since the demeaning is across time, and since these time-invariant variables do not change over time, the demeaning deletes them from the expression. Notice also, that the unobserved individual specific heterogeneity, $u_i$, has disappeared. It has disappeared for the same reason that the $X_i$ terms are gone—because the mean of $u_i$ over time is itself, and thus the demeaning deletes it.\n"
   ]
  },
  {
   "cell_type": "markdown",
   "id": "477ab21f-7343-4bdf-aafb-971a8fff9489",
   "metadata": {},
   "source": [
    "Let’s examine these models:"
   ]
  },
  {
   "cell_type": "code",
   "execution_count": 4,
   "id": "67ab7152-2862-44de-9296-788b41c25610",
   "metadata": {},
   "outputs": [],
   "source": [
    "library(tidyverse)\n",
    "library(haven)\n",
    "library(estimatr)\n",
    "library(plm)"
   ]
  },
  {
   "cell_type": "code",
   "execution_count": 7,
   "id": "663a1cfb-da1d-4dc0-add0-8749df8a1a45",
   "metadata": {},
   "outputs": [],
   "source": [
    "read_data <- function(df)\n",
    "{\n",
    "  full_path <- paste(\"https://github.com/scunning1975/mixtape/raw/master/\", \n",
    "                     df, sep = \"\")\n",
    "  df <- read_dta(full_path)\n",
    "  return(df)\n",
    "}\n",
    "\n",
    "sasp <- read_data(\"sasp_panel.dta\")"
   ]
  },
  {
   "cell_type": "code",
   "execution_count": 8,
   "id": "5aeb0a4c-0b82-4d45-84b3-8256dc8b8bff",
   "metadata": {},
   "outputs": [],
   "source": [
    "#-- Delete all NA\n",
    "sasp <- na.omit(sasp)\n",
    "\n",
    "#-- order by id and session \n",
    "sasp <- sasp %>% \n",
    "  arrange(id, session)"
   ]
  },
  {
   "cell_type": "code",
   "execution_count": 11,
   "id": "f30e8c6a-eea7-4dcf-be05-02c12f11d0ad",
   "metadata": {},
   "outputs": [
    {
     "data": {
      "text/html": [
       "<table class=\"dataframe\">\n",
       "<caption>A tibble: 3 × 31</caption>\n",
       "<thead>\n",
       "\t<tr><th scope=col>id</th><th scope=col>session</th><th scope=col>age</th><th scope=col>age_cl</th><th scope=col>appearance_cl</th><th scope=col>bmi</th><th scope=col>schooling</th><th scope=col>asq_cl</th><th scope=col>provider_second</th><th scope=col>asian_cl</th><th scope=col>⋯</th><th scope=col>hispanic</th><th scope=col>other</th><th scope=col>white</th><th scope=col>asq</th><th scope=col>cohab</th><th scope=col>married</th><th scope=col>divorced</th><th scope=col>separated</th><th scope=col>nevermarried</th><th scope=col>widowed</th></tr>\n",
       "\t<tr><th scope=col>&lt;dbl&gt;</th><th scope=col>&lt;dbl&gt;</th><th scope=col>&lt;dbl&gt;</th><th scope=col>&lt;dbl&gt;</th><th scope=col>&lt;dbl&gt;</th><th scope=col>&lt;dbl&gt;</th><th scope=col>&lt;dbl&gt;</th><th scope=col>&lt;dbl&gt;</th><th scope=col>&lt;dbl+lbl&gt;</th><th scope=col>&lt;dbl&gt;</th><th scope=col>⋯</th><th scope=col>&lt;dbl&gt;</th><th scope=col>&lt;dbl&gt;</th><th scope=col>&lt;dbl&gt;</th><th scope=col>&lt;dbl&gt;</th><th scope=col>&lt;dbl&gt;</th><th scope=col>&lt;dbl&gt;</th><th scope=col>&lt;dbl&gt;</th><th scope=col>&lt;dbl&gt;</th><th scope=col>&lt;dbl&gt;</th><th scope=col>&lt;dbl&gt;</th></tr>\n",
       "</thead>\n",
       "<tbody>\n",
       "\t<tr><td>1</td><td>1</td><td>23</td><td>46</td><td>5</td><td>20.48283</td><td>14</td><td>2116</td><td>1</td><td>0</td><td>⋯</td><td>0</td><td>1</td><td>0</td><td>529</td><td>0</td><td>0</td><td>0</td><td>0</td><td>1</td><td>0</td></tr>\n",
       "\t<tr><td>1</td><td>2</td><td>23</td><td>33</td><td>6</td><td>20.48283</td><td>14</td><td>1089</td><td>1</td><td>1</td><td>⋯</td><td>0</td><td>1</td><td>0</td><td>529</td><td>0</td><td>0</td><td>0</td><td>0</td><td>1</td><td>0</td></tr>\n",
       "\t<tr><td>1</td><td>4</td><td>23</td><td>61</td><td>4</td><td>20.48283</td><td>14</td><td>3721</td><td>1</td><td>0</td><td>⋯</td><td>0</td><td>1</td><td>0</td><td>529</td><td>0</td><td>0</td><td>0</td><td>0</td><td>1</td><td>0</td></tr>\n",
       "</tbody>\n",
       "</table>\n"
      ],
      "text/latex": [
       "A tibble: 3 × 31\n",
       "\\begin{tabular}{lllllllllllllllllllll}\n",
       " id & session & age & age\\_cl & appearance\\_cl & bmi & schooling & asq\\_cl & provider\\_second & asian\\_cl & ⋯ & hispanic & other & white & asq & cohab & married & divorced & separated & nevermarried & widowed\\\\\n",
       " <dbl> & <dbl> & <dbl> & <dbl> & <dbl> & <dbl> & <dbl> & <dbl> & <dbl+lbl> & <dbl> & ⋯ & <dbl> & <dbl> & <dbl> & <dbl> & <dbl> & <dbl> & <dbl> & <dbl> & <dbl> & <dbl>\\\\\n",
       "\\hline\n",
       "\t 1 & 1 & 23 & 46 & 5 & 20.48283 & 14 & 2116 & 1 & 0 & ⋯ & 0 & 1 & 0 & 529 & 0 & 0 & 0 & 0 & 1 & 0\\\\\n",
       "\t 1 & 2 & 23 & 33 & 6 & 20.48283 & 14 & 1089 & 1 & 1 & ⋯ & 0 & 1 & 0 & 529 & 0 & 0 & 0 & 0 & 1 & 0\\\\\n",
       "\t 1 & 4 & 23 & 61 & 4 & 20.48283 & 14 & 3721 & 1 & 0 & ⋯ & 0 & 1 & 0 & 529 & 0 & 0 & 0 & 0 & 1 & 0\\\\\n",
       "\\end{tabular}\n"
      ],
      "text/markdown": [
       "\n",
       "A tibble: 3 × 31\n",
       "\n",
       "| id &lt;dbl&gt; | session &lt;dbl&gt; | age &lt;dbl&gt; | age_cl &lt;dbl&gt; | appearance_cl &lt;dbl&gt; | bmi &lt;dbl&gt; | schooling &lt;dbl&gt; | asq_cl &lt;dbl&gt; | provider_second &lt;dbl+lbl&gt; | asian_cl &lt;dbl&gt; | ⋯ ⋯ | hispanic &lt;dbl&gt; | other &lt;dbl&gt; | white &lt;dbl&gt; | asq &lt;dbl&gt; | cohab &lt;dbl&gt; | married &lt;dbl&gt; | divorced &lt;dbl&gt; | separated &lt;dbl&gt; | nevermarried &lt;dbl&gt; | widowed &lt;dbl&gt; |\n",
       "|---|---|---|---|---|---|---|---|---|---|---|---|---|---|---|---|---|---|---|---|---|\n",
       "| 1 | 1 | 23 | 46 | 5 | 20.48283 | 14 | 2116 | 1 | 0 | ⋯ | 0 | 1 | 0 | 529 | 0 | 0 | 0 | 0 | 1 | 0 |\n",
       "| 1 | 2 | 23 | 33 | 6 | 20.48283 | 14 | 1089 | 1 | 1 | ⋯ | 0 | 1 | 0 | 529 | 0 | 0 | 0 | 0 | 1 | 0 |\n",
       "| 1 | 4 | 23 | 61 | 4 | 20.48283 | 14 | 3721 | 1 | 0 | ⋯ | 0 | 1 | 0 | 529 | 0 | 0 | 0 | 0 | 1 | 0 |\n",
       "\n"
      ],
      "text/plain": [
       "  id session age age_cl appearance_cl bmi      schooling asq_cl provider_second\n",
       "1 1  1       23  46     5             20.48283 14        2116   1              \n",
       "2 1  2       23  33     6             20.48283 14        1089   1              \n",
       "3 1  4       23  61     4             20.48283 14        3721   1              \n",
       "  asian_cl ⋯ hispanic other white asq cohab married divorced separated\n",
       "1 0        ⋯ 0        1     0     529 0     0       0        0        \n",
       "2 1        ⋯ 0        1     0     529 0     0       0        0        \n",
       "3 0        ⋯ 0        1     0     529 0     0       0        0        \n",
       "  nevermarried widowed\n",
       "1 1            0      \n",
       "2 1            0      \n",
       "3 1            0      "
      ]
     },
     "metadata": {},
     "output_type": "display_data"
    }
   ],
   "source": [
    "head(sasp, 3)"
   ]
  },
  {
   "cell_type": "code",
   "execution_count": 12,
   "id": "69b56437-3a18-4123-8461-bd0faf591d3c",
   "metadata": {},
   "outputs": [],
   "source": [
    "#Balance Data\n",
    "balanced_sasp <- make.pbalanced(sasp, \n",
    "                                balance.type = \"shared.individuals\")"
   ]
  },
  {
   "cell_type": "code",
   "execution_count": 13,
   "id": "55d4b9f5-19d7-41db-ae41-d0aee9d609cf",
   "metadata": {},
   "outputs": [
    {
     "data": {
      "text/html": [
       "<table class=\"dataframe\">\n",
       "<caption>A tibble: 3 × 31</caption>\n",
       "<thead>\n",
       "\t<tr><th scope=col>id</th><th scope=col>session</th><th scope=col>age</th><th scope=col>age_cl</th><th scope=col>appearance_cl</th><th scope=col>bmi</th><th scope=col>schooling</th><th scope=col>asq_cl</th><th scope=col>provider_second</th><th scope=col>asian_cl</th><th scope=col>⋯</th><th scope=col>hispanic</th><th scope=col>other</th><th scope=col>white</th><th scope=col>asq</th><th scope=col>cohab</th><th scope=col>married</th><th scope=col>divorced</th><th scope=col>separated</th><th scope=col>nevermarried</th><th scope=col>widowed</th></tr>\n",
       "\t<tr><th scope=col>&lt;dbl&gt;</th><th scope=col>&lt;dbl&gt;</th><th scope=col>&lt;dbl&gt;</th><th scope=col>&lt;dbl&gt;</th><th scope=col>&lt;dbl&gt;</th><th scope=col>&lt;dbl&gt;</th><th scope=col>&lt;dbl&gt;</th><th scope=col>&lt;dbl&gt;</th><th scope=col>&lt;dbl+lbl&gt;</th><th scope=col>&lt;dbl&gt;</th><th scope=col>⋯</th><th scope=col>&lt;dbl&gt;</th><th scope=col>&lt;dbl&gt;</th><th scope=col>&lt;dbl&gt;</th><th scope=col>&lt;dbl&gt;</th><th scope=col>&lt;dbl&gt;</th><th scope=col>&lt;dbl&gt;</th><th scope=col>&lt;dbl&gt;</th><th scope=col>&lt;dbl&gt;</th><th scope=col>&lt;dbl&gt;</th><th scope=col>&lt;dbl&gt;</th></tr>\n",
       "</thead>\n",
       "<tbody>\n",
       "\t<tr><td>6</td><td>1</td><td>29</td><td>32.5</td><td>6</td><td>30.89355</td><td>16</td><td>1056.25</td><td>1</td><td>0</td><td>⋯</td><td>0</td><td>0</td><td>1</td><td>841</td><td>1</td><td>0</td><td>0</td><td>0</td><td>0</td><td>0</td></tr>\n",
       "\t<tr><td>6</td><td>2</td><td>29</td><td>30.0</td><td>8</td><td>30.89355</td><td>16</td><td> 900.00</td><td>1</td><td>0</td><td>⋯</td><td>0</td><td>0</td><td>1</td><td>841</td><td>1</td><td>0</td><td>0</td><td>0</td><td>0</td><td>0</td></tr>\n",
       "\t<tr><td>6</td><td>3</td><td>29</td><td>45.0</td><td>4</td><td>30.89355</td><td>16</td><td>2025.00</td><td>1</td><td>0</td><td>⋯</td><td>0</td><td>0</td><td>1</td><td>841</td><td>1</td><td>0</td><td>0</td><td>0</td><td>0</td><td>0</td></tr>\n",
       "</tbody>\n",
       "</table>\n"
      ],
      "text/latex": [
       "A tibble: 3 × 31\n",
       "\\begin{tabular}{lllllllllllllllllllll}\n",
       " id & session & age & age\\_cl & appearance\\_cl & bmi & schooling & asq\\_cl & provider\\_second & asian\\_cl & ⋯ & hispanic & other & white & asq & cohab & married & divorced & separated & nevermarried & widowed\\\\\n",
       " <dbl> & <dbl> & <dbl> & <dbl> & <dbl> & <dbl> & <dbl> & <dbl> & <dbl+lbl> & <dbl> & ⋯ & <dbl> & <dbl> & <dbl> & <dbl> & <dbl> & <dbl> & <dbl> & <dbl> & <dbl> & <dbl>\\\\\n",
       "\\hline\n",
       "\t 6 & 1 & 29 & 32.5 & 6 & 30.89355 & 16 & 1056.25 & 1 & 0 & ⋯ & 0 & 0 & 1 & 841 & 1 & 0 & 0 & 0 & 0 & 0\\\\\n",
       "\t 6 & 2 & 29 & 30.0 & 8 & 30.89355 & 16 &  900.00 & 1 & 0 & ⋯ & 0 & 0 & 1 & 841 & 1 & 0 & 0 & 0 & 0 & 0\\\\\n",
       "\t 6 & 3 & 29 & 45.0 & 4 & 30.89355 & 16 & 2025.00 & 1 & 0 & ⋯ & 0 & 0 & 1 & 841 & 1 & 0 & 0 & 0 & 0 & 0\\\\\n",
       "\\end{tabular}\n"
      ],
      "text/markdown": [
       "\n",
       "A tibble: 3 × 31\n",
       "\n",
       "| id &lt;dbl&gt; | session &lt;dbl&gt; | age &lt;dbl&gt; | age_cl &lt;dbl&gt; | appearance_cl &lt;dbl&gt; | bmi &lt;dbl&gt; | schooling &lt;dbl&gt; | asq_cl &lt;dbl&gt; | provider_second &lt;dbl+lbl&gt; | asian_cl &lt;dbl&gt; | ⋯ ⋯ | hispanic &lt;dbl&gt; | other &lt;dbl&gt; | white &lt;dbl&gt; | asq &lt;dbl&gt; | cohab &lt;dbl&gt; | married &lt;dbl&gt; | divorced &lt;dbl&gt; | separated &lt;dbl&gt; | nevermarried &lt;dbl&gt; | widowed &lt;dbl&gt; |\n",
       "|---|---|---|---|---|---|---|---|---|---|---|---|---|---|---|---|---|---|---|---|---|\n",
       "| 6 | 1 | 29 | 32.5 | 6 | 30.89355 | 16 | 1056.25 | 1 | 0 | ⋯ | 0 | 0 | 1 | 841 | 1 | 0 | 0 | 0 | 0 | 0 |\n",
       "| 6 | 2 | 29 | 30.0 | 8 | 30.89355 | 16 |  900.00 | 1 | 0 | ⋯ | 0 | 0 | 1 | 841 | 1 | 0 | 0 | 0 | 0 | 0 |\n",
       "| 6 | 3 | 29 | 45.0 | 4 | 30.89355 | 16 | 2025.00 | 1 | 0 | ⋯ | 0 | 0 | 1 | 841 | 1 | 0 | 0 | 0 | 0 | 0 |\n",
       "\n"
      ],
      "text/plain": [
       "  id session age age_cl appearance_cl bmi      schooling asq_cl \n",
       "1 6  1       29  32.5   6             30.89355 16        1056.25\n",
       "2 6  2       29  30.0   8             30.89355 16         900.00\n",
       "3 6  3       29  45.0   4             30.89355 16        2025.00\n",
       "  provider_second asian_cl ⋯ hispanic other white asq cohab married divorced\n",
       "1 1               0        ⋯ 0        0     1     841 1     0       0       \n",
       "2 1               0        ⋯ 0        0     1     841 1     0       0       \n",
       "3 1               0        ⋯ 0        0     1     841 1     0       0       \n",
       "  separated nevermarried widowed\n",
       "1 0         0            0      \n",
       "2 0         0            0      \n",
       "3 0         0            0      "
      ]
     },
     "metadata": {},
     "output_type": "display_data"
    }
   ],
   "source": [
    "head(balanced_sasp, 3)"
   ]
  },
  {
   "cell_type": "code",
   "execution_count": 16,
   "id": "41879fc1-ebb8-425e-9f62-fb5aec434f2c",
   "metadata": {},
   "outputs": [],
   "source": [
    "balanced_sasp <- balanced_sasp %>% mutate( \n",
    "  demean_lnw = lnw - ave(lnw, id),\n",
    "  demean_age = age - ave(age, id),\n",
    "  demean_asq = asq - ave(asq, id),\n",
    "  demean_bmi = bmi - ave(bmi, id),\n",
    "  demean_hispanic = hispanic - ave(hispanic, id),\n",
    "  demean_black = black - ave(black, id),\n",
    "  demean_other = other - ave(other, id),\n",
    "  demean_asian = asian - ave(asian, id),\n",
    "  demean_schooling = schooling - ave(schooling, id),\n",
    "  demean_cohab = cohab - ave(cohab, id),\n",
    "  demean_married = married - ave(married, id),\n",
    "  demean_divorced = divorced - ave(divorced, id),\n",
    "  demean_separated = separated - ave(separated, id),\n",
    "  demean_age_cl = age_cl - ave(age_cl, id),\n",
    "  demean_unsafe = unsafe - ave(unsafe, id),\n",
    "  demean_llength = llength - ave(llength, id),\n",
    "  demean_reg = reg - ave(reg, id),\n",
    "  demean_asq_cl = asq_cl - ave(asq_cl, id),\n",
    "  demean_appearance_cl = appearance_cl - ave(appearance_cl, id),\n",
    "  demean_provider_second = provider_second - ave(provider_second, id),\n",
    "  demean_asian_cl = asian_cl - ave(asian_cl, id),\n",
    "  demean_black_cl = black_cl - ave(black_cl, id),\n",
    "  demean_hispanic_cl = hispanic_cl - ave(hispanic_cl, id),\n",
    "  demean_othrace_cl = othrace_cl - ave(othrace_cl, id),\n",
    "  demean_hot = hot - ave(hot, id),\n",
    "  demean_massage_cl = massage_cl - ave(massage_cl, id)\n",
    "  )"
   ]
  },
  {
   "cell_type": "code",
   "execution_count": 24,
   "id": "2b406021-5013-4fd4-a6e7-daa8ab2bc1e7",
   "metadata": {},
   "outputs": [
    {
     "data": {
      "text/plain": [
       "\n",
       "Call:\n",
       "lm_robust(formula = lnw ~ age + asq + bmi + hispanic + black + \n",
       "    other + asian + schooling + cohab + married + divorced + \n",
       "    separated + age_cl + unsafe + llength + reg + asq_cl + appearance_cl + \n",
       "    provider_second + asian_cl + black_cl + hispanic_cl + othrace_cl + \n",
       "    hot + massage_cl, data = balanced_sasp)\n",
       "\n",
       "Standard error type:  HC2 \n",
       "\n",
       "Coefficients:\n",
       "                  Estimate Std. Error  t value  Pr(>|t|)   CI Lower   CI Upper\n",
       "(Intercept)      7.007e+00  0.3411810  20.5383 1.651e-78  6.3377753  7.6767975\n",
       "age              2.753e-03  0.0116454   0.2364 8.132e-01 -0.0200995  0.0256049\n",
       "asq             -1.282e-04  0.0001567  -0.8185 4.133e-01 -0.0004357  0.0001792\n",
       "bmi             -2.170e-02  0.0022856  -9.4922 1.598e-20 -0.0261809 -0.0172105\n",
       "hispanic        -2.259e-01  0.0831269  -2.7172 6.697e-03 -0.3889938 -0.0627484\n",
       "black            2.837e-02  0.0646957   0.4385 6.611e-01 -0.0985874  0.1553218\n",
       "other           -1.116e-01  0.0770601  -1.4478 1.480e-01 -0.2627867  0.0396486\n",
       "asian            8.624e-02  0.1672203   0.5157 6.062e-01 -0.2419043  0.4143801\n",
       "schooling        1.983e-02  0.0096769   2.0488 4.074e-02  0.0008369  0.0388153\n",
       "cohab           -5.403e-02  0.0364184  -1.4837 1.382e-01 -0.1254993  0.0174308\n",
       "married          4.648e-03  0.0433493   0.1072 9.146e-01 -0.0804175  0.0897140\n",
       "divorced        -2.093e-02  0.0379808  -0.5511 5.817e-01 -0.0954610  0.0536012\n",
       "separated       -5.570e-02  0.0590483  -0.9432 3.458e-01 -0.1715677  0.0601771\n",
       "age_cl          -1.334e-03  0.0094627  -0.1409 8.879e-01 -0.0199026  0.0172353\n",
       "unsafe           1.341e-02  0.0283086   0.4736 6.359e-01 -0.0421435  0.0689583\n",
       "llength         -3.083e-01  0.0283516 -10.8724 4.187e-26 -0.3638861 -0.2526154\n",
       "reg             -4.701e-02  0.0280975  -1.6730 9.464e-02 -0.1021441  0.0081291\n",
       "asq_cl           4.401e-05  0.0001011   0.4354 6.633e-01 -0.0001543  0.0002424\n",
       "appearance_cl    2.002e-02  0.0075200   2.6619 7.895e-03  0.0052607  0.0347742\n",
       "provider_second  5.537e-02  0.0678610   0.8159 4.148e-01 -0.0778007  0.1885310\n",
       "asian_cl        -1.354e-02  0.0490779  -0.2759 7.827e-01 -0.1098464  0.0827680\n",
       "black_cl         9.189e-02  0.0731389   1.2563 2.093e-01 -0.0516373  0.2354086\n",
       "hispanic_cl      5.165e-02  0.0810797   0.6370 5.243e-01 -0.1074554  0.2107557\n",
       "othrace_cl       1.558e-01  0.0687954   2.2649 2.373e-02  0.0208171  0.2908160\n",
       "hot              1.332e-01  0.0288595   4.6140 4.462e-06  0.0765247  0.1897886\n",
       "massage_cl      -1.338e-01  0.0291366  -4.5932 4.919e-06 -0.1910071 -0.0766556\n",
       "                  DF\n",
       "(Intercept)     1002\n",
       "age             1002\n",
       "asq             1002\n",
       "bmi             1002\n",
       "hispanic        1002\n",
       "black           1002\n",
       "other           1002\n",
       "asian           1002\n",
       "schooling       1002\n",
       "cohab           1002\n",
       "married         1002\n",
       "divorced        1002\n",
       "separated       1002\n",
       "age_cl          1002\n",
       "unsafe          1002\n",
       "llength         1002\n",
       "reg             1002\n",
       "asq_cl          1002\n",
       "appearance_cl   1002\n",
       "provider_second 1002\n",
       "asian_cl        1002\n",
       "black_cl        1002\n",
       "hispanic_cl     1002\n",
       "othrace_cl      1002\n",
       "hot             1002\n",
       "massage_cl      1002\n",
       "\n",
       "Multiple R-squared:  0.3026 ,\tAdjusted R-squared:  0.2852 \n",
       "F-statistic: 13.17 on 25 and 1002 DF,  p-value: < 2.2e-16"
      ]
     },
     "metadata": {},
     "output_type": "display_data"
    }
   ],
   "source": [
    "#-- POLS\n",
    "ols <- lm_robust(lnw ~ age + asq + bmi + hispanic + black + other + asian + schooling + cohab + married + divorced + separated + \n",
    "           age_cl + unsafe + llength + reg + asq_cl + appearance_cl + provider_second + asian_cl + black_cl + hispanic_cl + \n",
    "           othrace_cl + hot + massage_cl, data = balanced_sasp)\n",
    "summary(ols)"
   ]
  },
  {
   "cell_type": "code",
   "execution_count": 20,
   "id": "29bfd5b9-1643-48ba-9eb5-2df4c8e0f645",
   "metadata": {},
   "outputs": [
    {
     "name": "stderr",
     "output_type": "stream",
     "text": [
      "12 coefficients  not defined because the design matrix is rank deficient\n",
      "\n",
      "\n"
     ]
    },
    {
     "data": {
      "text/plain": [
       "\n",
       "Call:\n",
       "lm_robust(formula = formula, data = balanced_sasp, fixed_effects = ~id, \n",
       "    se_type = \"stata\")\n",
       "\n",
       "Standard error type:  HC1 \n",
       "\n",
       "Coefficients: (12 not defined because the design matrix is rank deficient)\n",
       "                  Estimate Std. Error   t value  Pr(>|t|)   CI Lower   CI Upper\n",
       "age                     NA         NA        NA        NA         NA         NA\n",
       "asq                     NA         NA        NA        NA         NA         NA\n",
       "bmi                     NA         NA        NA        NA         NA         NA\n",
       "hispanic                NA         NA        NA        NA         NA         NA\n",
       "black                   NA         NA        NA        NA         NA         NA\n",
       "other                   NA         NA        NA        NA         NA         NA\n",
       "asian                   NA         NA        NA        NA         NA         NA\n",
       "schooling               NA         NA        NA        NA         NA         NA\n",
       "cohab                   NA         NA        NA        NA         NA         NA\n",
       "married                 NA         NA        NA        NA         NA         NA\n",
       "divorced                NA         NA        NA        NA         NA         NA\n",
       "separated               NA         NA        NA        NA         NA         NA\n",
       "age_cl           0.0023054  6.393e-03   0.36059 7.185e-01 -0.0102454  0.0148562\n",
       "unsafe           0.0510339  2.996e-02   1.70356 8.887e-02 -0.0077752  0.1098429\n",
       "llength         -0.4345064  2.147e-02 -20.24132 3.655e-73 -0.4766469 -0.3923659\n",
       "reg             -0.0373412  1.941e-02  -1.92334 5.481e-02 -0.0754544  0.0007720\n",
       "asq_cl          -0.0000147  7.006e-05  -0.20984 8.338e-01 -0.0001522  0.0001228\n",
       "appearance_cl    0.0056350  5.483e-03   1.02774 3.044e-01 -0.0051285  0.0163985\n",
       "provider_second  0.1131373  5.577e-02   2.02847 4.286e-02  0.0036463  0.2226283\n",
       "asian_cl        -0.0098734  3.474e-02  -0.28419 7.763e-01 -0.0780755  0.0583288\n",
       "black_cl         0.0265076  4.224e-02   0.62755 5.305e-01 -0.0564139  0.1094291\n",
       "hispanic_cl     -0.0620880  5.168e-02  -1.20133 2.300e-01 -0.1635466  0.0393706\n",
       "othrace_cl       0.1421711  5.193e-02   2.73764 6.333e-03  0.0402235  0.2441187\n",
       "hot              0.0524782  2.718e-02   1.93041 5.393e-02 -0.0008886  0.1058450\n",
       "massage_cl      -0.0010344  2.718e-02  -0.03805 9.697e-01 -0.0543960  0.0523273\n",
       "                 DF\n",
       "age              NA\n",
       "asq              NA\n",
       "bmi              NA\n",
       "hispanic         NA\n",
       "black            NA\n",
       "other            NA\n",
       "asian            NA\n",
       "schooling        NA\n",
       "cohab            NA\n",
       "married          NA\n",
       "divorced         NA\n",
       "separated        NA\n",
       "age_cl          758\n",
       "unsafe          758\n",
       "llength         758\n",
       "reg             758\n",
       "asq_cl          758\n",
       "appearance_cl   758\n",
       "provider_second 758\n",
       "asian_cl        758\n",
       "black_cl        758\n",
       "hispanic_cl     758\n",
       "othrace_cl      758\n",
       "hot             758\n",
       "massage_cl      758\n",
       "\n",
       "Multiple R-squared:  0.8322 ,\tAdjusted R-squared:  0.7727\n",
       "Multiple R-squared (proj. model):  0.516 ,\tAdjusted R-squared (proj. model):  0.3442 \n",
       "F-statistic (proj. model):    NA on 13 and 758 DF,  p-value: NA"
      ]
     },
     "metadata": {},
     "output_type": "display_data"
    }
   ],
   "source": [
    "#-- FE\n",
    "formula <- as.formula(\"lnw ~ age + asq + bmi + hispanic + black + other + asian + schooling + \n",
    "                      cohab + married + divorced + separated + \n",
    "                      age_cl + unsafe + llength + reg + asq_cl + appearance_cl + \n",
    "                      provider_second + asian_cl + black_cl + hispanic_cl + \n",
    "                      othrace_cl + hot + massage_cl\")\n",
    "\n",
    "model_fe <- lm_robust(formula = formula,\n",
    "                  data = balanced_sasp, \n",
    "                  fixed_effect = ~id, \n",
    "                  se_type = \"stata\")\n",
    "\n",
    "summary(model_fe)"
   ]
  },
  {
   "cell_type": "code",
   "execution_count": 21,
   "id": "51614eae-140d-4e47-ac15-69af6d5fcec3",
   "metadata": {},
   "outputs": [
    {
     "name": "stderr",
     "output_type": "stream",
     "text": [
      "12 coefficients  not defined because the design matrix is rank deficient\n",
      "\n",
      "\n"
     ]
    },
    {
     "data": {
      "text/plain": [
       "\n",
       "Call:\n",
       "lm_robust(formula = dm_formula, data = balanced_sasp, clusters = id, \n",
       "    se_type = \"stata\")\n",
       "\n",
       "Standard error type:  stata \n",
       "\n",
       "Coefficients: (12 not defined because the design matrix is rank deficient)\n",
       "                         Estimate Std. Error  t value  Pr(>|t|)   CI Lower\n",
       "(Intercept)             1.822e-18  1.202e-18   1.5156 1.309e-01 -5.453e-19\n",
       "demean_age                     NA         NA       NA        NA         NA\n",
       "demean_asq                     NA         NA       NA        NA         NA\n",
       "demean_bmi                     NA         NA       NA        NA         NA\n",
       "demean_hispanic                NA         NA       NA        NA         NA\n",
       "demean_black                   NA         NA       NA        NA         NA\n",
       "demean_other                   NA         NA       NA        NA         NA\n",
       "demean_asian                   NA         NA       NA        NA         NA\n",
       "demean_schooling               NA         NA       NA        NA         NA\n",
       "demean_cohab                   NA         NA       NA        NA         NA\n",
       "demean_married                 NA         NA       NA        NA         NA\n",
       "demean_divorced                NA         NA       NA        NA         NA\n",
       "demean_separated               NA         NA       NA        NA         NA\n",
       "demean_age_cl           2.305e-03  6.776e-03   0.3402 7.340e-01 -1.104e-02\n",
       "demean_unsafe           5.103e-02  2.828e-02   1.8044 7.234e-02 -4.663e-03\n",
       "demean_llength         -4.345e-01  2.432e-02 -17.8642 6.739e-47 -4.824e-01\n",
       "demean_reg             -3.734e-02  1.876e-02  -1.9904 4.761e-02 -7.429e-02\n",
       "demean_asq_cl          -1.470e-05  7.550e-05  -0.1947 8.458e-01 -1.634e-04\n",
       "demean_appearance_cl    5.635e-03  5.803e-03   0.9711 3.324e-01 -5.792e-03\n",
       "demean_provider_second  1.131e-01  6.040e-02   1.8731 6.219e-02 -5.808e-03\n",
       "demean_asian_cl        -9.873e-03  3.383e-02  -0.2918 7.706e-01 -7.650e-02\n",
       "demean_black_cl         2.651e-02  4.234e-02   0.6261 5.318e-01 -5.687e-02\n",
       "demean_hispanic_cl     -6.209e-02  5.172e-02  -1.2006 2.310e-01 -1.639e-01\n",
       "demean_othrace_cl       1.422e-01  4.929e-02   2.8846 4.253e-03  4.511e-02\n",
       "demean_hot              5.248e-02  2.711e-02   1.9358 5.399e-02 -9.062e-04\n",
       "demean_massage_cl      -1.034e-03  2.780e-02  -0.0372 9.704e-01 -5.579e-02\n",
       "                         CI Upper  DF\n",
       "(Intercept)             4.189e-18 256\n",
       "demean_age                     NA  NA\n",
       "demean_asq                     NA  NA\n",
       "demean_bmi                     NA  NA\n",
       "demean_hispanic                NA  NA\n",
       "demean_black                   NA  NA\n",
       "demean_other                   NA  NA\n",
       "demean_asian                   NA  NA\n",
       "demean_schooling               NA  NA\n",
       "demean_cohab                   NA  NA\n",
       "demean_married                 NA  NA\n",
       "demean_divorced                NA  NA\n",
       "demean_separated               NA  NA\n",
       "demean_age_cl           1.565e-02 256\n",
       "demean_unsafe           1.067e-01 256\n",
       "demean_llength         -3.866e-01 256\n",
       "demean_reg             -3.962e-04 256\n",
       "demean_asq_cl           1.340e-04 256\n",
       "demean_appearance_cl    1.706e-02 256\n",
       "demean_provider_second  2.321e-01 256\n",
       "demean_asian_cl         5.675e-02 256\n",
       "demean_black_cl         1.099e-01 256\n",
       "demean_hispanic_cl      3.975e-02 256\n",
       "demean_othrace_cl       2.392e-01 256\n",
       "demean_hot              1.059e-01 256\n",
       "demean_massage_cl       5.372e-02 256\n",
       "\n",
       "Multiple R-squared:  0.516 ,\tAdjusted R-squared:  0.5098 \n",
       "F-statistic:    NA on 13 and 256 DF,  p-value: NA"
      ]
     },
     "metadata": {},
     "output_type": "display_data"
    }
   ],
   "source": [
    "#-- Demean OLS\n",
    "dm_formula <- as.formula(\"demean_lnw ~ demean_age + demean_asq + demean_bmi + \n",
    "                demean_hispanic + demean_black + demean_other +\n",
    "                demean_asian + demean_schooling + demean_cohab + \n",
    "                demean_married + demean_divorced + demean_separated +\n",
    "                demean_age_cl + demean_unsafe + demean_llength + demean_reg + \n",
    "                demean_asq_cl + demean_appearance_cl + \n",
    "                demean_provider_second + demean_asian_cl + demean_black_cl + \n",
    "                demean_hispanic_cl + demean_othrace_cl +\n",
    "                demean_hot + demean_massage_cl\")\n",
    "\n",
    "ols_demean <- lm_robust(formula = dm_formula, \n",
    "                data = balanced_sasp, clusters = id,\n",
    "                se_type = \"stata\")\n",
    "\n",
    "summary(ols_demean)"
   ]
  },
  {
   "cell_type": "code",
   "execution_count": null,
   "id": "edc1efb8-c3ee-4c2d-9e5c-a3f3e2f8920f",
   "metadata": {},
   "outputs": [],
   "source": []
  }
 ],
 "metadata": {
  "kernelspec": {
   "display_name": "R",
   "language": "R",
   "name": "ir"
  },
  "language_info": {
   "codemirror_mode": "r",
   "file_extension": ".r",
   "mimetype": "text/x-r-source",
   "name": "R",
   "pygments_lexer": "r",
   "version": "4.3.1"
  }
 },
 "nbformat": 4,
 "nbformat_minor": 5
}
